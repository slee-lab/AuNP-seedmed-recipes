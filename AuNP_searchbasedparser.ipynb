{
 "cells": [
  {
   "cell_type": "code",
   "execution_count": 1,
   "metadata": {},
   "outputs": [],
   "source": [
    "from regex_patterns import *\n",
    "from utils import *\n",
    "\n",
    "# this is a dummy example\n",
    "example = {\n",
    "    'DOI':\"12.34/1234a\", \n",
    "    'paragraphs':[\n",
    "        {\"text\":\"Introduction - Gold nanostars (AuNSs) have been used widely.... Thes nanostars are tunable....  Also, SiO2 nanorods (NRs) are.... \",\n",
    "        \"is_recipe\":0},\n",
    "        {\"text\":\"This is a made-up paragraph, just as an example for the search-based parser!! AuNSs were synthesized by a seed-mediated method. First, gold seeds were prepared. Briefly, HAuCl4·3H2O (1mL, 2.0 × 10-3 M) was mixed with 0.4 g of hexadecyltrimethylammonium bromide (CTAB). Then, a 5 mL solution containing 60 µM of ice-cold NaBH4 and 7mm CTAC was mixed with this. In another flask, 8.888 ml of 0.009 M AgNO3 was mixed with AA (0.1 mmol, 20mL). An aliquot of seed solution (200µL) was mixed with this solution and was aged for 12 h, then was centrifuged and dispersed in BDAC (1mL, 1mM). The TEM analysis showed that this resulted in high yield star-like nanoparticles.\",\n",
    "         \"is_recipe\":1},\n",
    "        {\"text\":\"The AuNSs synthesized had average length, diamger and aspect ratio of 10 ± 2.0 nm, between 20 and 25 nm, and up to 4.\",\n",
    "            \"is_recipe\":0},\n",
    "    ]}"
   ]
  },
  {
   "cell_type": "code",
   "execution_count": 2,
   "metadata": {},
   "outputs": [
    {
     "name": "stdout",
     "output_type": "stream",
     "text": [
      "{'AuNS': 'Gold nanostar'}\n"
     ]
    }
   ],
   "source": [
    "papertext,recipetext=\"\",\"\"\n",
    "for par in example['paragraphs']:\n",
    "    papertext+=par['text']+\"\\n\"\n",
    "\n",
    "# acronym catcher\n",
    "acronym_table = morph_acronym_catcher(papertext,target='Au',debug=False)\n",
    "print(acronym_table)\n",
    "\n",
    "# convert acronyms\n",
    "papertext,recipetext=\"\",\"\"\n",
    "for par in example['paragraphs']:\n",
    "    par['text_converted']=convert_goldmorphacronym(par['text'],acronym_table)\n",
    "    papertext+=par['text_converted']+\"\\n\"\n",
    "    if par['is_recipe']==1:\n",
    "        recipetext+=par['text_converted']+\"\\n\"\n"
   ]
  },
  {
   "cell_type": "code",
   "execution_count": null,
   "metadata": {},
   "outputs": [],
   "source": []
  },
  {
   "cell_type": "code",
   "execution_count": 3,
   "metadata": {},
   "outputs": [
    {
     "name": "stdout",
     "output_type": "stream",
     "text": [
      "[{'text': 'Gold nanostars', 'groups': ['Au'], 'span': (78, 92), 'category': 'Str'}]\n"
     ]
    }
   ],
   "source": [
    "# morphology detection\n",
    "morphs = detect_anytarget_morph(target='Au', text_input = recipetext)\n",
    "print(morphs)\n"
   ]
  },
  {
   "cell_type": "code",
   "execution_count": null,
   "metadata": {},
   "outputs": [],
   "source": []
  },
  {
   "cell_type": "code",
   "execution_count": null,
   "metadata": {},
   "outputs": [],
   "source": []
  },
  {
   "cell_type": "code",
   "execution_count": null,
   "metadata": {},
   "outputs": [],
   "source": []
  },
  {
   "cell_type": "code",
   "execution_count": null,
   "metadata": {},
   "outputs": [],
   "source": []
  },
  {
   "cell_type": "code",
   "execution_count": 4,
   "metadata": {},
   "outputs": [
    {
     "name": "stdout",
     "output_type": "stream",
     "text": [
      "Seed solution recipe:\n",
      " First, gold seeds were prepared. Briefly, HAuCl4·3H2O (1mL, 2.0 × 10-3 M) was mixed with 0.4 g of hexadecyltrimethylammonium bromide (CTAB). Then, a 5 mL solution containing 60 µM of ice-cold NaBH4 and 7mm CTAC was mixed with this.\n",
      "\n",
      "Growth solution recipe:\n",
      " In another flask, 8.888 ml of 0.009 M AgNO3 was mixed with AA (0.1 mmol, 20mL). An aliquot of seed solution (200µL) was mixed with this solution and was aged for 12 h, then was.\n"
     ]
    }
   ],
   "source": [
    "#subrecipe separation\n",
    "try:\n",
    "    subrecipe_output=subrecipe_separate(recipetext,HAuCl4switch=True,initiate_whenprecamounts=True)\n",
    "except:#Filter subrecipe_fatalerror\n",
    "    print(\"\\nsubrecipe ERROR, reciptext:\\n\",recipetext)\n",
    "\n",
    "#Filter subrecipe error\n",
    "if not isinstance(subrecipe_output,tuple) or not isinstance(subrecipe_output[0],list): \n",
    "    print(\"\\nsubrecipe ERROR, reciptext:\\n\",recipetext)\n",
    "\n",
    "else:\n",
    "    seedtext, growthtext = \"\",\"\"\n",
    "    seedslnidx, growthslnidx, mixslndix, seedamount, seedamountunit, status = subrecipe_output\n",
    "    recipetext_sentobject,pars_containprecamount = pars_sents_tokenizer(recipetext)\n",
    "    recipetext_sentobject = [comp['senttext'] for comp in recipetext_sentobject]\n",
    "    # Sentence tokenizers are different for two methods.\n",
    "    # we use sidx of CDETokenizer to compare with MatER\n",
    "    for sidx in range(len(recipetext_sentobject)):\n",
    "        sent=recipetext_sentobject[sidx]\n",
    "        if sidx in seedslnidx:\n",
    "            seedtext+=\" \"+sent\n",
    "        elif sidx in growthslnidx:\n",
    "            if check_stringsinsent(breakstrings, sent):\n",
    "                growthtext+= \" \"+min([sent.split(breakstr)[0] for breakstr in breakstrings],key=lambda p:len(p))+\".\"\n",
    "                discard_MatER_flag=True\n",
    "                break\n",
    "            else:\n",
    "                growthtext+=\" \"+sent\n",
    "    print(f\"Seed solution recipe:\\n{seedtext}\\n\\nGrowth solution recipe:\\n{growthtext}\")\n",
    "\n"
   ]
  },
  {
   "cell_type": "code",
   "execution_count": 5,
   "metadata": {},
   "outputs": [
    {
     "name": "stdout",
     "output_type": "stream",
     "text": [
      "{'GrowthSln': [{'amount': 0.003437843784378438, 'precursor_category': 'AA'},\n",
      "               {'amount': 0.00275, 'precursor_category': 'AgNO3'}],\n",
      " 'GrowthSlnRaw': [{'AgNO3': ['8.888', 'ml', '0.009', 'M']},\n",
      "                  {'AA': ['0.1', 'mmol', '20', 'mL']}],\n",
      " 'SeedSln': [{'amount': 0.005833333333333334, 'precursor_category': 'CTAC'},\n",
      "             {'amount': 0.1829240407920611, 'precursor_category': 'CTAB'},\n",
      "             {'amount': 0.0003333333333333333, 'precursor_category': 'AuCl4-'},\n",
      "             {'amount': 5e-05, 'precursor_category': 'BH4-'}],\n",
      " 'SeedSlnRaw': [{'HAuCl4·3H2O': ['1', 'mL', '2.0 × 10-3', 'M']},\n",
      "                {'CTAB': ['0.4', 'g']},\n",
      "                {'NaBH4': ['5', 'mL', '60', 'µM']},\n",
      "                {'CTAC': ['3.5000000000000004e-05', 'mol']}],\n",
      " 'SeedoverGrowth': 0.006875687568756875}\n"
     ]
    }
   ],
   "source": [
    "# precursor & amount detection\n",
    "from pprint import pprint\n",
    "precsamount_seed = parse_prec_amounts_regex(seedtext)\n",
    "precsamount_growth = parse_prec_amounts_regex(growthtext)\n",
    "\n",
    "seedvolunt = seedamount+seedamountunit\n",
    "seedvol=float(0)\n",
    "if isinstance(seedvolunt,list) and len(seedvolunt)==2:\n",
    "    seedvol = parsefrom_amountlist({'precursor_category': 'H2O','precsubcat': 'H2O', 'amount': [seedvolunt]},solvent=True)[1]\n",
    "\n",
    "precscatamount_growth,finalvol = precnormalize_amount(precsamount_growth,include_vol_inL=seedvol,version=\"Concentration\",output_finalvol=True)\n",
    "precscatamount_seed = precnormalize_amount(precsamount_seed,include_vol_inL=0,version=\"Concentration\",output_finalvol=False)\n",
    "\n",
    "#Filter precursor error\n",
    "if not isinstance(precscatamount_growth,list) or not isinstance(precscatamount_seed,list) or len(precscatamount_growth)==0 or len(precscatamount_seed)==0:\n",
    "    print(\"precursor error\")\n",
    "else:\n",
    "    if len(precscatamount_seed)>0 and seedvol>0 and finalvol>0:\n",
    "        seedovergrowth=seedvol/finalvol\n",
    "    else:\n",
    "        seedovergrowth=0\n",
    "\n",
    "extracted_recipe = {\n",
    "    \"SeedSln\":precscatamount_seed,\n",
    "    \"GrowthSln\":precscatamount_growth,\n",
    "    \"SeedSlnRaw\":precsamount_seed,\n",
    "    \"GrowthSlnRaw\":precsamount_growth,\n",
    "    \"SeedoverGrowth\":seedovergrowth,\n",
    "    }\n",
    "pprint(extracted_recipe)"
   ]
  }
 ],
 "metadata": {
  "kernelspec": {
   "display_name": "gitupload",
   "language": "python",
   "name": "python3"
  },
  "language_info": {
   "codemirror_mode": {
    "name": "ipython",
    "version": 3
   },
   "file_extension": ".py",
   "mimetype": "text/x-python",
   "name": "python",
   "nbconvert_exporter": "python",
   "pygments_lexer": "ipython3",
   "version": "3.6.10"
  }
 },
 "nbformat": 4,
 "nbformat_minor": 2
}
